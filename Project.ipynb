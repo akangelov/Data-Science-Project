{
  "nbformat": 4,
  "nbformat_minor": 0,
  "metadata": {
    "kernelspec": {
      "display_name": "Python 3",
      "language": "python",
      "name": "python3"
    },
    "language_info": {
      "codemirror_mode": {
        "name": "ipython",
        "version": 3
      },
      "file_extension": ".py",
      "mimetype": "text/x-python",
      "name": "python",
      "nbconvert_exporter": "python",
      "pygments_lexer": "ipython3",
      "version": "3.8.5"
    },
    "colab": {
      "name": "Project.ipynb",
      "provenance": [],
      "include_colab_link": true
    }
  },
  "cells": [
    {
      "cell_type": "markdown",
      "metadata": {
        "id": "view-in-github",
        "colab_type": "text"
      },
      "source": [
        "<a href=\"https://colab.research.google.com/github/akangelov/Data-Science-Project/blob/main/Project.ipynb\" target=\"_parent\"><img src=\"https://colab.research.google.com/assets/colab-badge.svg\" alt=\"Open In Colab\"/></a>"
      ]
    },
    {
      "cell_type": "code",
      "metadata": {
        "id": "DynTObVQ5f1D"
      },
      "source": [
        "%matplotlib inline"
      ],
      "execution_count": null,
      "outputs": []
    },
    {
      "cell_type": "code",
      "metadata": {
        "id": "10SMmdI75f1J"
      },
      "source": [
        "import numpy as np\n",
        "import matplotlib.pyplot as plt\n",
        "import scipy.stats as stats\n",
        "import math\n",
        "import pandas as pd"
      ],
      "execution_count": null,
      "outputs": []
    },
    {
      "cell_type": "markdown",
      "metadata": {
        "id": "-ZbS4tog5f1L"
      },
      "source": [
        "# Are Real Estate Investment Trust (REITs) a better investment vehicle than stocks?\n"
      ]
    },
    {
      "cell_type": "markdown",
      "metadata": {
        "id": "9GskXXOj5f1M"
      },
      "source": [
        "# Article Content\n",
        "\n",
        "<ul>\n",
        "<li>I.Introduction</li>\n",
        "<li>II.Data and methods</li>\n",
        "<li>III.Dataset</li>\n",
        "<li>IV.Hypothesis</li>\n",
        "<li>V.Previous Research</li>\n",
        "<li>VI.Results</li>\n",
        "<li>VII.Testing (with yearly data)</li>\n",
        "<li>VIII.Conclusions</li>\n",
        "<li>IX.Further Research</li>\n",
        "<li>X.References</li>\n",
        "</ul>"
      ]
    },
    {
      "cell_type": "markdown",
      "metadata": {
        "id": "gwpmJnyt5f1N"
      },
      "source": [
        "# I.Introduction\n",
        "\n",
        "In my project I want to give reply to the following question: <u>*Are REITs a better investment vehicle than stocks?*</u> Before I start my research I would like to provide a short definition of these two investment vehicles.\n",
        "\n",
        "**Stocks** - A common stock is a security that represents ownership in a corporation. E.g. Microsoft, Tesla, Facebook etc.\n",
        "\n",
        "**REIT** - A real estate investment trust (REIT) is a company that owns, operates, or finances income-generating real estate. Modeled after mutual funds, REITs pool the capital of numerous investors. This makes it possible for individual investors to earn dividends from real estate investments—without having to buy, manage, or finance any properties themselves.\n"
      ]
    },
    {
      "cell_type": "markdown",
      "metadata": {
        "id": "LRTakCf05f1O"
      },
      "source": [
        "# II.Data and Methods\n",
        "\n",
        "I will gather the **monthly and the yearly returns** for the last 48 years (1972-2020) of the stock and the REIT markets. \n",
        "\n",
        "The assumtion that I make is that the returns are **normally** distributed. Normal distribution of stock/asset returns is a standard assumption in finance used in many models. It provides analysts with proxies for the average returns (mean) and risk (standard deviation) of an asset.  \n",
        "\n",
        "I will plot histograms of stocks/REITS distribution returns.\n",
        "I will investigate their **return, risk and correlation** proxied by the **mean**, **standard deviation** and **correlation** of the distributions.\n",
        "I will compare them in terms of risk and return and draw conclusions.\n",
        "\n",
        "As a proxy for the Stock market returns I will use the **S&P 500 index**. The S&P 500 index is a market-capitalization-weighted index of the 500 largest publicly-traded companies in the U.S.\n",
        "\n",
        "As a proxy for the REITs return I will use the **FTSE NAREIT All Equity REIT Index**. This index contains all 12 equity REIT subsectors. (1972-start of index).\n"
      ]
    },
    {
      "cell_type": "markdown",
      "metadata": {
        "id": "H5h3oJ4E5f1P"
      },
      "source": [
        "# III.Dataset\n",
        "\n",
        "Below I present the **sources** and the <b>structure</b> of my datasets.\n",
        "\n",
        "My dataset contains the <b>monthly and yearly returns</b> and dividend yields of the S&P 500 index and the FTSE NAREIT All Equity REIT index for the period <b> Jan-1972 - March-2021 </b>. From these I construct the price and total return indexes of the two. \n",
        "\n",
        "\n",
        "### Sources\n",
        "\n",
        "There are two sources that are mainly used. For the REIT Returns I use the historical data provided by NAREIT and for the equity returns I use Yahoo Finance\n",
        "\n",
        "1. NAREIT - The National Association of Real Estate Investment Trusts – more commonly known as NAREIT – acts as the voice for equity and mortgage REITs, REITs traded on all major stock exchanges.\n",
        "\n",
        "<a>https://www.reit.com/data-research/reit-indexes/ftse-nareit-us-real-estate-index-historical-values-returns </a>\n",
        "\n",
        "2. Yahoo Finance\n",
        "\n",
        "<a>https://finance.yahoo.com/quote/%5EGSPC/history?p=%5EGSPC </a>\n",
        "\n",
        "### Definitions\n",
        "\n",
        "1. <b>Price index</b> - is a measure of relative price changes, consisting of a series of numbers arranged so that a comparison between the values for any two periods or places will show the average change in prices between periods \n",
        "\n",
        "\n",
        "2. <b>Total return index</b> - is a type of index that tracks both the capital gains as well as any cash distributions, such as dividends or interest, attributed to the components of the index. \n",
        "\n",
        "### Structure\n",
        "\n",
        "My dataset contains 9 columns. \n",
        "\n",
        "1. Column 1 - **Date**\n",
        "2. Columns 2 & 3 - S&P 500 and All Reits indexes monthly **returns** (percentages)\n",
        "3. Columns 4 & 5 - S&P 500 and All Reits indexes monthly **dividend yields** (percentages)\n",
        "4. Columns 6 & 7 - S&P 500 and All Reits indexes **total returns** (dividend + price returns)\n",
        "5. Columns 8 & 9 - S&P 500 and All reits <b>price</b> indices calculated using the data in columns 2 & 3\n",
        "6. Columns 10 & 11 - S&P 500 and All reits <b>total return</b> indices calculated using the data in columns 2 & 3 & 4 & 5\n",
        "\n",
        "### Data manipulation\n",
        "\n",
        "Columns 1 through 5 is the raw data taken from the sources.\n",
        "\n",
        "Columns 8 & 9 - To construct the <b>price indexes</b> I use a baseline value of 100 and I multiply the index value by each months return + 1\n",
        "\n",
        " $ Previous\\, price\\, index\\, value * (Monthly\\, Return + 1) $\n",
        " \n",
        "Columns 10 & 11 - For the construction of the <b>total return</b> indexes I use again a baseline of 100. \n",
        "\n",
        "$ (Previous\\, price\\, index\\, value * (Monthly\\, Return + 1)) + (Previous\\, price\\, index\\, value * Current\\, month\\, dividend yield) $ \n",
        "\n",
        "In other words, the total return consists of: 1. The price change of the index from one month to another + the dividend yield resulting from the previous month index closing price dollar value invested at the current month dividend yield\n"
      ]
    },
    {
      "cell_type": "markdown",
      "metadata": {
        "id": "_bW83pxT5f1R"
      },
      "source": [
        "# IV.Hypothesis\n",
        "\n",
        "The hypothesis that I make and investigate is that **REITs** are a **better investment** than stocks having a <u>higher</u> **average return (mean)** and <u>lower</u> **risk (standard deviation)** as represented by the chosen proxies. I will additionally investigate REITs **correlation (Pearson coefficient)** with stocks to answer the question whether they are a good addition to a stock protfolio in terms of diversification. An asset is a good difersifier if it has a <u>low to moderate</u> correlation with another asset.\n"
      ]
    },
    {
      "cell_type": "markdown",
      "metadata": {
        "id": "nAbD3AGM5f1S"
      },
      "source": [
        "# V.Previous research\n",
        "\n",
        "The results of the previous research that I investigated and read are the following:\n",
        "\n",
        "1. There is a consensus that over the long run REITS historical total returns (mean) are higher than stocks\n",
        "2. REITS risk (standard deviation) is lower than stocks\n",
        "3. REITS and stocks have a slight positive correlation (pearson coefficient)\n",
        "\n",
        "Below I cite the sources of my research:\n",
        "\n",
        "<ul>\n",
        "<li>Return (Mean)<br>\n",
        "<a>https://www.reit.com/news/blog/market-commentary/reit-average--historical-returns-vs-us-stocks-sp-500 </a><br>\n",
        "<a>https://www.millionacres.com/research/reits-vs-stocks/ </a></li><br>\n",
        "                                                                      \n",
        "    \n",
        "<li>Risk(SD)<br>\n",
        "    <a>https://seekingalpha.com/article/4061110-reits-vs-stocks-risk-comparison</a></li><br>\n",
        "<li>    \n",
        "Correaltion(Pearson Coefficient)<br>\n",
        "<a>https://fourpillarfreedom.com/are-reits-and-stocks-correlated/</a></li>\n",
        "</ul>\n",
        "\n",
        "It is to be seen whether the above results will be confirmed with my dataset"
      ]
    },
    {
      "cell_type": "markdown",
      "metadata": {
        "id": "3Me5xxXO5f1T"
      },
      "source": [
        "# VI.Results\n"
      ]
    },
    {
      "cell_type": "markdown",
      "metadata": {
        "id": "hcI8QCXb5f1U"
      },
      "source": [
        "## Steps\n",
        "\n",
        "1. Reading the dataset\n",
        "2. Plotting the histograms and providing comments on the distributions\n",
        "3. Defining functions to calculate the mean, standard variation and correlation of the Stock/REIT returns\n",
        "4. Calculations and comments on the results\n",
        "5. Calculation of the 95% confidence intervals and \n",
        "6. Plotting the price and total return indexes and providing comments\n"
      ]
    },
    {
      "cell_type": "markdown",
      "metadata": {
        "id": "LUtlHRIZ5f1U"
      },
      "source": [
        "### 1.Reading the dataset"
      ]
    },
    {
      "cell_type": "code",
      "metadata": {
        "scrolled": false,
        "id": "GrjZFZFp5f1V",
        "outputId": "ae09d292-febd-496e-d7c8-e4bc27706b4c"
      },
      "source": [
        "returns_data = pd.read_excel(\"Dataset.xlsx\")\n",
        "returns_data"
      ],
      "execution_count": null,
      "outputs": [
        {
          "output_type": "execute_result",
          "data": {
            "text/html": [
              "<div>\n",
              "<style scoped>\n",
              "    .dataframe tbody tr th:only-of-type {\n",
              "        vertical-align: middle;\n",
              "    }\n",
              "\n",
              "    .dataframe tbody tr th {\n",
              "        vertical-align: top;\n",
              "    }\n",
              "\n",
              "    .dataframe thead th {\n",
              "        text-align: right;\n",
              "    }\n",
              "</style>\n",
              "<table border=\"1\" class=\"dataframe\">\n",
              "  <thead>\n",
              "    <tr style=\"text-align: right;\">\n",
              "      <th></th>\n",
              "      <th>Date</th>\n",
              "      <th>S&amp;P 500 Monthly Price Returns</th>\n",
              "      <th>All Reits Monthly Price Returns</th>\n",
              "      <th>S&amp;P Monthly Dividend Yield</th>\n",
              "      <th>All Reits Monthly Dividend Yield</th>\n",
              "      <th>S&amp;P Monthly Total Returns (Price + Dividends)</th>\n",
              "      <th>All Reits Monthly Total Returns (Price + Dividends)</th>\n",
              "      <th>S&amp;P Price Index (Baseline =100)</th>\n",
              "      <th>All Reits Price Index (Baseline =100)</th>\n",
              "      <th>S&amp;P Total Return Index (Baseline=100)</th>\n",
              "      <th>All Reits Total Return Index (Baseline=100)</th>\n",
              "    </tr>\n",
              "  </thead>\n",
              "  <tbody>\n",
              "    <tr>\n",
              "      <th>0</th>\n",
              "      <td>1972-01-31</td>\n",
              "      <td>0.041646</td>\n",
              "      <td>-0.013454</td>\n",
              "      <td>0.002475</td>\n",
              "      <td>0.005108</td>\n",
              "      <td>0.044121</td>\n",
              "      <td>-0.008345</td>\n",
              "      <td>104.164566</td>\n",
              "      <td>98.654620</td>\n",
              "      <td>104.412066</td>\n",
              "      <td>99.165453</td>\n",
              "    </tr>\n",
              "    <tr>\n",
              "      <th>1</th>\n",
              "      <td>1972-02-29</td>\n",
              "      <td>0.018393</td>\n",
              "      <td>0.017370</td>\n",
              "      <td>0.002433</td>\n",
              "      <td>0.004783</td>\n",
              "      <td>0.020826</td>\n",
              "      <td>0.022153</td>\n",
              "      <td>106.080468</td>\n",
              "      <td>100.368260</td>\n",
              "      <td>106.586590</td>\n",
              "      <td>101.362308</td>\n",
              "    </tr>\n",
              "    <tr>\n",
              "      <th>2</th>\n",
              "      <td>1972-03-31</td>\n",
              "      <td>0.023764</td>\n",
              "      <td>-0.007365</td>\n",
              "      <td>0.002375</td>\n",
              "      <td>0.004933</td>\n",
              "      <td>0.026139</td>\n",
              "      <td>-0.002432</td>\n",
              "      <td>108.601392</td>\n",
              "      <td>99.629057</td>\n",
              "      <td>109.372684</td>\n",
              "      <td>101.115838</td>\n",
              "    </tr>\n",
              "    <tr>\n",
              "      <th>3</th>\n",
              "      <td>1972-04-30</td>\n",
              "      <td>0.010214</td>\n",
              "      <td>0.032363</td>\n",
              "      <td>0.002350</td>\n",
              "      <td>0.004767</td>\n",
              "      <td>0.012564</td>\n",
              "      <td>0.037130</td>\n",
              "      <td>109.710598</td>\n",
              "      <td>102.853352</td>\n",
              "      <td>110.746794</td>\n",
              "      <td>104.870235</td>\n",
              "    </tr>\n",
              "    <tr>\n",
              "      <th>4</th>\n",
              "      <td>1972-05-31</td>\n",
              "      <td>-0.010110</td>\n",
              "      <td>-0.097454</td>\n",
              "      <td>0.002375</td>\n",
              "      <td>0.005442</td>\n",
              "      <td>-0.007735</td>\n",
              "      <td>-0.092012</td>\n",
              "      <td>108.601392</td>\n",
              "      <td>92.829865</td>\n",
              "      <td>109.890135</td>\n",
              "      <td>95.220864</td>\n",
              "    </tr>\n",
              "    <tr>\n",
              "      <th>...</th>\n",
              "      <td>...</td>\n",
              "      <td>...</td>\n",
              "      <td>...</td>\n",
              "      <td>...</td>\n",
              "      <td>...</td>\n",
              "      <td>...</td>\n",
              "      <td>...</td>\n",
              "      <td>...</td>\n",
              "      <td>...</td>\n",
              "      <td>...</td>\n",
              "      <td>...</td>\n",
              "    </tr>\n",
              "    <tr>\n",
              "      <th>586</th>\n",
              "      <td>2020-11-30</td>\n",
              "      <td>0.038111</td>\n",
              "      <td>0.091085</td>\n",
              "      <td>0.001375</td>\n",
              "      <td>0.003042</td>\n",
              "      <td>0.039486</td>\n",
              "      <td>0.094126</td>\n",
              "      <td>3578.695674</td>\n",
              "      <td>700.803065</td>\n",
              "      <td>14247.700380</td>\n",
              "      <td>16943.033360</td>\n",
              "    </tr>\n",
              "    <tr>\n",
              "      <th>587</th>\n",
              "      <td>2020-12-31</td>\n",
              "      <td>0.041228</td>\n",
              "      <td>0.018596</td>\n",
              "      <td>0.001317</td>\n",
              "      <td>0.002967</td>\n",
              "      <td>0.042545</td>\n",
              "      <td>0.021563</td>\n",
              "      <td>3726.237774</td>\n",
              "      <td>713.835315</td>\n",
              "      <td>14853.862587</td>\n",
              "      <td>17308.373133</td>\n",
              "    </tr>\n",
              "    <tr>\n",
              "      <th>588</th>\n",
              "      <td>2021-01-29</td>\n",
              "      <td>0.026639</td>\n",
              "      <td>-0.001666</td>\n",
              "      <td>0.001275</td>\n",
              "      <td>0.002958</td>\n",
              "      <td>0.027914</td>\n",
              "      <td>0.001292</td>\n",
              "      <td>3825.500072</td>\n",
              "      <td>712.645856</td>\n",
              "      <td>15268.489520</td>\n",
              "      <td>17330.736248</td>\n",
              "    </tr>\n",
              "    <tr>\n",
              "      <th>589</th>\n",
              "      <td>2021-02-26</td>\n",
              "      <td>0.023640</td>\n",
              "      <td>0.025933</td>\n",
              "      <td>0.001242</td>\n",
              "      <td>0.002883</td>\n",
              "      <td>0.024882</td>\n",
              "      <td>0.028816</td>\n",
              "      <td>3915.934360</td>\n",
              "      <td>731.126917</td>\n",
              "      <td>15648.392860</td>\n",
              "      <td>17830.144908</td>\n",
              "    </tr>\n",
              "    <tr>\n",
              "      <th>590</th>\n",
              "      <td>2021-03-31</td>\n",
              "      <td>0.006972</td>\n",
              "      <td>0.050034</td>\n",
              "      <td>0.001225</td>\n",
              "      <td>0.002758</td>\n",
              "      <td>0.008197</td>\n",
              "      <td>0.052792</td>\n",
              "      <td>3943.237129</td>\n",
              "      <td>767.707852</td>\n",
              "      <td>15776.666230</td>\n",
              "      <td>18771.433297</td>\n",
              "    </tr>\n",
              "  </tbody>\n",
              "</table>\n",
              "<p>591 rows × 11 columns</p>\n",
              "</div>"
            ],
            "text/plain": [
              "          Date  S&P 500 Monthly Price Returns  \\\n",
              "0   1972-01-31                       0.041646   \n",
              "1   1972-02-29                       0.018393   \n",
              "2   1972-03-31                       0.023764   \n",
              "3   1972-04-30                       0.010214   \n",
              "4   1972-05-31                      -0.010110   \n",
              "..         ...                            ...   \n",
              "586 2020-11-30                       0.038111   \n",
              "587 2020-12-31                       0.041228   \n",
              "588 2021-01-29                       0.026639   \n",
              "589 2021-02-26                       0.023640   \n",
              "590 2021-03-31                       0.006972   \n",
              "\n",
              "     All Reits Monthly Price Returns  S&P Monthly Dividend Yield  \\\n",
              "0                          -0.013454                    0.002475   \n",
              "1                           0.017370                    0.002433   \n",
              "2                          -0.007365                    0.002375   \n",
              "3                           0.032363                    0.002350   \n",
              "4                          -0.097454                    0.002375   \n",
              "..                               ...                         ...   \n",
              "586                         0.091085                    0.001375   \n",
              "587                         0.018596                    0.001317   \n",
              "588                        -0.001666                    0.001275   \n",
              "589                         0.025933                    0.001242   \n",
              "590                         0.050034                    0.001225   \n",
              "\n",
              "     All Reits Monthly Dividend Yield  \\\n",
              "0                            0.005108   \n",
              "1                            0.004783   \n",
              "2                            0.004933   \n",
              "3                            0.004767   \n",
              "4                            0.005442   \n",
              "..                                ...   \n",
              "586                          0.003042   \n",
              "587                          0.002967   \n",
              "588                          0.002958   \n",
              "589                          0.002883   \n",
              "590                          0.002758   \n",
              "\n",
              "     S&P Monthly Total Returns (Price + Dividends)  \\\n",
              "0                                         0.044121   \n",
              "1                                         0.020826   \n",
              "2                                         0.026139   \n",
              "3                                         0.012564   \n",
              "4                                        -0.007735   \n",
              "..                                             ...   \n",
              "586                                       0.039486   \n",
              "587                                       0.042545   \n",
              "588                                       0.027914   \n",
              "589                                       0.024882   \n",
              "590                                       0.008197   \n",
              "\n",
              "     All Reits Monthly Total Returns (Price + Dividends)  \\\n",
              "0                                            -0.008345     \n",
              "1                                             0.022153     \n",
              "2                                            -0.002432     \n",
              "3                                             0.037130     \n",
              "4                                            -0.092012     \n",
              "..                                                 ...     \n",
              "586                                           0.094126     \n",
              "587                                           0.021563     \n",
              "588                                           0.001292     \n",
              "589                                           0.028816     \n",
              "590                                           0.052792     \n",
              "\n",
              "     S&P Price Index (Baseline =100)  All Reits Price Index (Baseline =100)  \\\n",
              "0                         104.164566                              98.654620   \n",
              "1                         106.080468                             100.368260   \n",
              "2                         108.601392                              99.629057   \n",
              "3                         109.710598                             102.853352   \n",
              "4                         108.601392                              92.829865   \n",
              "..                               ...                                    ...   \n",
              "586                      3578.695674                             700.803065   \n",
              "587                      3726.237774                             713.835315   \n",
              "588                      3825.500072                             712.645856   \n",
              "589                      3915.934360                             731.126917   \n",
              "590                      3943.237129                             767.707852   \n",
              "\n",
              "     S&P Total Return Index (Baseline=100)  \\\n",
              "0                               104.412066   \n",
              "1                               106.586590   \n",
              "2                               109.372684   \n",
              "3                               110.746794   \n",
              "4                               109.890135   \n",
              "..                                     ...   \n",
              "586                           14247.700380   \n",
              "587                           14853.862587   \n",
              "588                           15268.489520   \n",
              "589                           15648.392860   \n",
              "590                           15776.666230   \n",
              "\n",
              "     All Reits Total Return Index (Baseline=100)  \n",
              "0                                      99.165453  \n",
              "1                                     101.362308  \n",
              "2                                     101.115838  \n",
              "3                                     104.870235  \n",
              "4                                      95.220864  \n",
              "..                                           ...  \n",
              "586                                 16943.033360  \n",
              "587                                 17308.373133  \n",
              "588                                 17330.736248  \n",
              "589                                 17830.144908  \n",
              "590                                 18771.433297  \n",
              "\n",
              "[591 rows x 11 columns]"
            ]
          },
          "metadata": {
            "tags": []
          },
          "execution_count": 3
        }
      ]
    },
    {
      "cell_type": "markdown",
      "metadata": {
        "id": "i2goz6Bg5f1X"
      },
      "source": [
        "### 2.Histograms Plots"
      ]
    },
    {
      "cell_type": "code",
      "metadata": {
        "id": "YsiXn2lq5f1Y",
        "outputId": "2e56c19f-91c0-4775-bb73-f4e4ac03d853"
      },
      "source": [
        "plt.hist(returns_data[\"S&P 500 Monthly Price Returns\"], bins = 120)\n",
        "plt.xlabel(\"Returns\")\n",
        "plt.ylabel(\"Frequency\")\n",
        "plt.title(\"S&P 500 Monthly Price Returns distribution\")\n",
        "plt.show()"
      ],
      "execution_count": null,
      "outputs": [
        {
          "output_type": "display_data",
          "data": {
            "image/png": "[encoded data removed]",
            "text/plain": [
              "<Figure size 432x288 with 1 Axes>"
            ]
          },
          "metadata": {
            "tags": [],
            "needs_background": "light"
          }
        }
      ]
    },
    {
      "cell_type": "code",
      "metadata": {
        "id": "Xlgrr_wh5f1Z",
        "outputId": "32b3f6fd-6c93-453a-830f-a2ab399f8cd8"
      },
      "source": [
        "plt.hist(returns_data[\"All Reits Monthly Price Returns\"], bins = 120)\n",
        "plt.xlabel(\"Returns\")\n",
        "plt.ylabel(\"Frequency\")\n",
        "plt.title(\"All Reits Monthly Price Returns distribution\")\n",
        "plt.show()"
      ],
      "execution_count": null,
      "outputs": [
        {
          "output_type": "display_data",
          "data": {
            "image/png": "[encoded data removed]",
            "text/plain": [
              "<Figure size 432x288 with 1 Axes>"
            ]
          },
          "metadata": {
            "tags": [],
            "needs_background": "light"
          }
        }
      ]
    },
    {
      "cell_type": "markdown",
      "metadata": {
        "id": "QNrCiiR95f1Z"
      },
      "source": [
        "**Comment**: By plotting the Stock/REIT returns I see that they are <u>approximately</u> **normally distributed** as was my initial assumption.  "
      ]
    },
    {
      "cell_type": "markdown",
      "metadata": {
        "id": "CLZnH5nj5f1a"
      },
      "source": [
        "### 3.Defining Functions\n",
        "\n",
        "I define functions in Python to calculate the mean, standard deviation and the Standard deviation of the returns"
      ]
    },
    {
      "cell_type": "code",
      "metadata": {
        "id": "Hk7N6vDB5f1a"
      },
      "source": [
        "def calculate_mean(returns):    \n",
        "    return \"Mean \" + returns.name + \": \" + str(round((returns.mean()) * 100, 2)) + \"%\"\n",
        "\n",
        "def calculate_std(returns):    \n",
        "    return \"Standard deviation \" + returns.name + \": \" + str(round((returns.std()) * 100, 2)) + \"%\"\n",
        "\n",
        "def calculate_corr(returns_asset1, returns_asset2 ):    \n",
        "    return \"Correlation between \" + returns_asset1.name +\" and \" + returns_asset2.name +\" is \" + str(round((returns_asset1.corr(returns_asset2)), 2))\n"
      ],
      "execution_count": null,
      "outputs": []
    },
    {
      "cell_type": "markdown",
      "metadata": {
        "id": "8sgP9yAL5f1b"
      },
      "source": [
        "### 4.Calculating Risk, Return and Correlation"
      ]
    },
    {
      "cell_type": "markdown",
      "metadata": {
        "id": "I9GYP4tk5f1b"
      },
      "source": [
        "   #### 4.1 Mean calculation"
      ]
    },
    {
      "cell_type": "code",
      "metadata": {
        "id": "bv7yUhqB5f1c",
        "outputId": "3e04d758-216b-459e-9440-173fc97aa09e"
      },
      "source": [
        "print(calculate_mean(returns_data[\"S&P 500 Monthly Price Returns\"]))\n",
        "print(calculate_mean(returns_data[\"All Reits Monthly Price Returns\"]))\n",
        "print(calculate_mean(returns_data[\"S&P Monthly Total Returns (Price + Dividends)\"]))\n",
        "print(calculate_mean(returns_data[\"All Reits Monthly Total Returns (Price + Dividends)\"]))"
      ],
      "execution_count": null,
      "outputs": [
        {
          "output_type": "stream",
          "text": [
            "Mean S&P 500 Monthly Price Returns: 0.69%\n",
            "Mean All Reits Monthly Price Returns: 0.47%\n",
            "Mean S&P Monthly Total Returns (Price + Dividends): 0.93%\n",
            "Mean All Reits Monthly Total Returns (Price + Dividends): 1.01%\n"
          ],
          "name": "stdout"
        }
      ]
    },
    {
      "cell_type": "markdown",
      "metadata": {
        "id": "GOvPwvYv5f1c"
      },
      "source": [
        "**Comment**:I observe that the **price** returns of <u>Stocks</u> are higher than the preice returns of <u>REITS</u>.\n",
        "However, and more importantly, if we factor in the dividends, the **total** average returns of <u>REITS</u> is **higher** than that of <u>Stocks</u> - 1.01% vs 0.93%."
      ]
    },
    {
      "cell_type": "markdown",
      "metadata": {
        "id": "QwpIYkZ75f1d"
      },
      "source": [
        "#### 4.2 Standard Deviation Calculation"
      ]
    },
    {
      "cell_type": "code",
      "metadata": {
        "id": "hZdArSMr5f1d",
        "outputId": "f5afe2cb-62ba-48f0-8c36-cdd15de9af9c"
      },
      "source": [
        "print(calculate_std(returns_data[\"S&P 500 Monthly Price Returns\"]))\n",
        "print(calculate_std(returns_data[\"All Reits Monthly Price Returns\"]))\n",
        "print(calculate_std(returns_data[\"S&P Monthly Total Returns (Price + Dividends)\"]))\n",
        "print(calculate_std(returns_data[\"All Reits Monthly Total Returns (Price + Dividends)\"]))"
      ],
      "execution_count": null,
      "outputs": [
        {
          "output_type": "stream",
          "text": [
            "Standard deviation S&P 500 Monthly Price Returns: 3.64%\n",
            "Standard deviation All Reits Monthly Price Returns: 4.86%\n",
            "Standard deviation S&P Monthly Total Returns (Price + Dividends): 3.64%\n",
            "Standard deviation All Reits Monthly Total Returns (Price + Dividends): 4.84%\n"
          ],
          "name": "stdout"
        }
      ]
    },
    {
      "cell_type": "markdown",
      "metadata": {
        "id": "KXc2iBbR5f1e"
      },
      "source": [
        "**Comment**: I observe that the Standard Deviation of <u>REITS</u> is **higher** than that of <u>Stocks</u> - 4.86% vs 3.64%."
      ]
    },
    {
      "cell_type": "markdown",
      "metadata": {
        "id": "N8Fc1yrd5f1f"
      },
      "source": [
        "#### 4.3 Correlation Calculation"
      ]
    },
    {
      "cell_type": "code",
      "metadata": {
        "id": "EMlhGj8s5f1f",
        "outputId": "e0cb4fa9-bd6b-440f-fc85-9ad002bac0b2"
      },
      "source": [
        "print(calculate_corr(returns_data[\"S&P 500 Monthly Price Returns\"], returns_data[\"All Reits Monthly Price Returns\"]))\n"
      ],
      "execution_count": null,
      "outputs": [
        {
          "output_type": "stream",
          "text": [
            "Correlation between S&P 500 Monthly Price Returns and All Reits Monthly Price Returns is 0.49\n"
          ],
          "name": "stdout"
        }
      ]
    },
    {
      "cell_type": "markdown",
      "metadata": {
        "id": "n82cK45y5f1g"
      },
      "source": [
        "**Comment**: I observe that <u>REITS</u> and <u>Stocks</u> have a <u>slight positive</u> correlation."
      ]
    },
    {
      "cell_type": "markdown",
      "metadata": {
        "id": "NNrOf7kl5f1g"
      },
      "source": [
        "### 5.Confidence Intervals"
      ]
    },
    {
      "cell_type": "markdown",
      "metadata": {
        "id": "Ntmy8Pa_5f1g"
      },
      "source": [
        "Having calculated the standard deviation and the mean of the Stock and REITs returns,and assuming Normal distribution, I can now determine the 95% confidence interval for their returns."
      ]
    },
    {
      "cell_type": "code",
      "metadata": {
        "id": "eGYSrdTo5f1h",
        "outputId": "1ad9babf-2248-4fcb-f918-a7d716469004"
      },
      "source": [
        "mean_total_returns_stocks = round(returns_data[\"S&P Monthly Total Returns (Price + Dividends)\"].mean()*100, 2)\n",
        "mean_total_returns_reits = round(returns_data[\"All Reits Monthly Total Returns (Price + Dividends)\"].mean()*100, 2)\n",
        "sd_stocks = round(returns_data[\"S&P Monthly Total Returns (Price + Dividends)\"].std()*100, 2)\n",
        "sd_reits = round(returns_data[\"All Reits Monthly Total Returns (Price + Dividends)\"].std()*100, 2)\n",
        "confidence_interval_left_border_stocks_95 =  round(mean_total_returns_stocks - 2 * sd_stocks, 2)\n",
        "confidence_interval_right_border_stocks_95 =  mean_total_returns_stocks + 2 * sd_stocks\n",
        "confidence_interval_left_border_reits_95 =  mean_total_returns_reits - 2 * sd_reits\n",
        "confidence_interval_right_border_reits_95 =  mean_total_returns_reits + 2 * sd_reits\n",
        "\n",
        "print(\"Lower bound monthly stock returns:\" + str(confidence_interval_left_border_stocks_95) + \"%\")\n",
        "print(\"Upper bound monthly stock returns:\"+ str(confidence_interval_right_border_stocks_95) + \"%\")\n",
        "print(\"Lower bound monthly REIT returns:\" + str(confidence_interval_left_border_reits_95) + \"%\")\n",
        "print(\"Upper bound monthly REIT returns:\" + str(confidence_interval_right_border_reits_95) + \"%\")"
      ],
      "execution_count": null,
      "outputs": [
        {
          "output_type": "stream",
          "text": [
            "Lower bound monthly stock returns:-6.35%\n",
            "Upper bound monthly stock returns:8.21%\n",
            "Lower bound monthly REIT returns:-8.67%\n",
            "Upper bound monthly REIT returns:10.69%\n"
          ],
          "name": "stdout"
        }
      ]
    },
    {
      "cell_type": "markdown",
      "metadata": {
        "id": "GGiYp3d65f1i"
      },
      "source": [
        "**Comment**:REITs have higher upper and lower band within the 95% confidence interval. In finance terms they are riskier than stocks."
      ]
    },
    {
      "cell_type": "markdown",
      "metadata": {
        "id": "mIDVGF5e5f1i"
      },
      "source": [
        "### 6.Plotting the indices"
      ]
    },
    {
      "cell_type": "code",
      "metadata": {
        "id": "4_CcIb-d5f1i",
        "outputId": "25424b38-8213-434e-eebe-2d0c3ea1e91c"
      },
      "source": [
        "plt.plot(returns_data[\"Date\"], returns_data[\"S&P Price Index (Baseline =100)\"])\n",
        "plt.xlabel(\"Date\")\n",
        "plt.ylabel(\"S&P Price Index (Baseline =100)\")\n",
        "plt.title(\"S&P Price index, Base = 100\")\n",
        "plt.show()"
      ],
      "execution_count": null,
      "outputs": [
        {
          "output_type": "display_data",
          "data": {
            "image/png": "[encoded data removed]",
            "text/plain": [
              "<Figure size 432x288 with 1 Axes>"
            ]
          },
          "metadata": {
            "tags": [],
            "needs_background": "light"
          }
        }
      ]
    },
    {
      "cell_type": "code",
      "metadata": {
        "id": "r7FiKEB_5f1j",
        "outputId": "5d59a956-74e4-4981-d2e6-b74fc2a9bca2"
      },
      "source": [
        "plt.plot(returns_data[\"Date\"], returns_data[\"All Reits Price Index (Baseline =100)\"])\n",
        "plt.xlabel(\"Date\")\n",
        "plt.ylabel(\"S&P Total Return Index (Baseline=100)\")\n",
        "plt.title(\"NAREIT Price index, Base = 100\")\n",
        "plt.show()"
      ],
      "execution_count": null,
      "outputs": [
        {
          "output_type": "display_data",
          "data": {
            "image/png": "[encoded data removed]",
            "text/plain": [
              "<Figure size 432x288 with 1 Axes>"
            ]
          },
          "metadata": {
            "tags": [],
            "needs_background": "light"
          }
        }
      ]
    },
    {
      "cell_type": "markdown",
      "metadata": {
        "id": "dyJ-947d5f1j"
      },
      "source": [
        "**Comment**: Observing only the price appreciation of the indexes, 100 USD invested in stocks in 1972 will return around 4000 today, whereas the same 100 USD invested in REITs will return around 800."
      ]
    },
    {
      "cell_type": "code",
      "metadata": {
        "id": "g1Ja3S-S5f1k",
        "outputId": "c265d837-0580-431c-f0f4-618144205397"
      },
      "source": [
        "plt.plot(returns_data[\"Date\"], returns_data[\"S&P Total Return Index (Baseline=100)\"])\n",
        "plt.xlabel(\"Date\")\n",
        "plt.ylabel(\"S&P Total Return Index (Baseline=100)\")\n",
        "plt.title(\"S&P 500 Total index, Base = 100\")\n",
        "plt.show()"
      ],
      "execution_count": null,
      "outputs": [
        {
          "output_type": "display_data",
          "data": {
            "image/png": "[encoded data removed]",
            "text/plain": [
              "<Figure size 432x288 with 1 Axes>"
            ]
          },
          "metadata": {
            "tags": [],
            "needs_background": "light"
          }
        }
      ]
    },
    {
      "cell_type": "code",
      "metadata": {
        "id": "9ieOyGaI5f1k",
        "outputId": "558edb86-7baa-4a02-80f6-8d9b9770e51e"
      },
      "source": [
        "plt.plot(returns_data[\"Date\"], returns_data[\"All Reits Total Return Index (Baseline=100)\"])\n",
        "plt.xlabel(\"Date\")\n",
        "plt.ylabel(\"S&P Total Return Index (Baseline=100)\")\n",
        "plt.title(\"NAREIT Total index, Base = 100\")\n",
        "plt.show()"
      ],
      "execution_count": null,
      "outputs": [
        {
          "output_type": "display_data",
          "data": {
            "image/png": "[encoded data removed]",
            "text/plain": [
              "<Figure size 432x288 with 1 Axes>"
            ]
          },
          "metadata": {
            "tags": [],
            "needs_background": "light"
          }
        }
      ]
    },
    {
      "cell_type": "markdown",
      "metadata": {
        "id": "n-RYzN-p5f1l"
      },
      "source": [
        "**Comment**: If we factor in the dividends however, 100 USD in <u>REITs</u> provides a **higher** total return than the same amount invested in stocks - 17,500 USD vs 16,000 USD."
      ]
    },
    {
      "cell_type": "markdown",
      "metadata": {
        "id": "-E9kcAMy5f1l"
      },
      "source": [
        "# VII.Testing with yearly data"
      ]
    },
    {
      "cell_type": "code",
      "metadata": {
        "id": "4dgVAAS15f1m",
        "outputId": "84097f06-7c2b-4c60-b10b-60243abec59f"
      },
      "source": [
        "returns_data_annual = pd.read_excel(\"Dataset - Annual.xlsx\")\n",
        "returns_data_annual"
      ],
      "execution_count": null,
      "outputs": [
        {
          "output_type": "execute_result",
          "data": {
            "text/html": [
              "<div>\n",
              "<style scoped>\n",
              "    .dataframe tbody tr th:only-of-type {\n",
              "        vertical-align: middle;\n",
              "    }\n",
              "\n",
              "    .dataframe tbody tr th {\n",
              "        vertical-align: top;\n",
              "    }\n",
              "\n",
              "    .dataframe thead th {\n",
              "        text-align: right;\n",
              "    }\n",
              "</style>\n",
              "<table border=\"1\" class=\"dataframe\">\n",
              "  <thead>\n",
              "    <tr style=\"text-align: right;\">\n",
              "      <th></th>\n",
              "      <th>Year</th>\n",
              "      <th>S&amp;P Monthly Total Returns (Price + Dividends)</th>\n",
              "      <th>REITS Total Returns (Price + Dividends)</th>\n",
              "    </tr>\n",
              "  </thead>\n",
              "  <tbody>\n",
              "    <tr>\n",
              "      <th>0</th>\n",
              "      <td>2020</td>\n",
              "      <td>18.40</td>\n",
              "      <td>-5.121561</td>\n",
              "    </tr>\n",
              "    <tr>\n",
              "      <th>1</th>\n",
              "      <td>2019</td>\n",
              "      <td>31.49</td>\n",
              "      <td>28.660000</td>\n",
              "    </tr>\n",
              "    <tr>\n",
              "      <th>2</th>\n",
              "      <td>2018</td>\n",
              "      <td>-4.38</td>\n",
              "      <td>-4.044548</td>\n",
              "    </tr>\n",
              "    <tr>\n",
              "      <th>3</th>\n",
              "      <td>2017</td>\n",
              "      <td>21.83</td>\n",
              "      <td>8.673904</td>\n",
              "    </tr>\n",
              "    <tr>\n",
              "      <th>4</th>\n",
              "      <td>2016</td>\n",
              "      <td>11.96</td>\n",
              "      <td>8.629229</td>\n",
              "    </tr>\n",
              "    <tr>\n",
              "      <th>5</th>\n",
              "      <td>2015</td>\n",
              "      <td>1.38</td>\n",
              "      <td>2.825235</td>\n",
              "    </tr>\n",
              "    <tr>\n",
              "      <th>6</th>\n",
              "      <td>2014</td>\n",
              "      <td>13.69</td>\n",
              "      <td>28.027586</td>\n",
              "    </tr>\n",
              "    <tr>\n",
              "      <th>7</th>\n",
              "      <td>2013</td>\n",
              "      <td>32.39</td>\n",
              "      <td>2.855735</td>\n",
              "    </tr>\n",
              "    <tr>\n",
              "      <th>8</th>\n",
              "      <td>2012</td>\n",
              "      <td>16.00</td>\n",
              "      <td>19.700810</td>\n",
              "    </tr>\n",
              "    <tr>\n",
              "      <th>9</th>\n",
              "      <td>2011</td>\n",
              "      <td>2.11</td>\n",
              "      <td>8.283718</td>\n",
              "    </tr>\n",
              "    <tr>\n",
              "      <th>10</th>\n",
              "      <td>2010</td>\n",
              "      <td>15.06</td>\n",
              "      <td>27.946967</td>\n",
              "    </tr>\n",
              "    <tr>\n",
              "      <th>11</th>\n",
              "      <td>2009</td>\n",
              "      <td>26.46</td>\n",
              "      <td>27.990215</td>\n",
              "    </tr>\n",
              "    <tr>\n",
              "      <th>12</th>\n",
              "      <td>2008</td>\n",
              "      <td>-37.00</td>\n",
              "      <td>-37.727636</td>\n",
              "    </tr>\n",
              "    <tr>\n",
              "      <th>13</th>\n",
              "      <td>2007</td>\n",
              "      <td>5.49</td>\n",
              "      <td>-15.691743</td>\n",
              "    </tr>\n",
              "    <tr>\n",
              "      <th>14</th>\n",
              "      <td>2006</td>\n",
              "      <td>15.79</td>\n",
              "      <td>35.060672</td>\n",
              "    </tr>\n",
              "    <tr>\n",
              "      <th>15</th>\n",
              "      <td>2005</td>\n",
              "      <td>4.91</td>\n",
              "      <td>12.162835</td>\n",
              "    </tr>\n",
              "    <tr>\n",
              "      <th>16</th>\n",
              "      <td>2004</td>\n",
              "      <td>10.88</td>\n",
              "      <td>31.577496</td>\n",
              "    </tr>\n",
              "    <tr>\n",
              "      <th>17</th>\n",
              "      <td>2003</td>\n",
              "      <td>28.68</td>\n",
              "      <td>37.133707</td>\n",
              "    </tr>\n",
              "    <tr>\n",
              "      <th>18</th>\n",
              "      <td>2002</td>\n",
              "      <td>-22.10</td>\n",
              "      <td>3.820789</td>\n",
              "    </tr>\n",
              "    <tr>\n",
              "      <th>19</th>\n",
              "      <td>2001</td>\n",
              "      <td>-11.89</td>\n",
              "      <td>13.932909</td>\n",
              "    </tr>\n",
              "    <tr>\n",
              "      <th>20</th>\n",
              "      <td>2000</td>\n",
              "      <td>-9.10</td>\n",
              "      <td>26.365400</td>\n",
              "    </tr>\n",
              "    <tr>\n",
              "      <th>21</th>\n",
              "      <td>1999</td>\n",
              "      <td>21.04</td>\n",
              "      <td>-4.620000</td>\n",
              "    </tr>\n",
              "    <tr>\n",
              "      <th>22</th>\n",
              "      <td>1998</td>\n",
              "      <td>28.58</td>\n",
              "      <td>-17.502200</td>\n",
              "    </tr>\n",
              "    <tr>\n",
              "      <th>23</th>\n",
              "      <td>1997</td>\n",
              "      <td>33.36</td>\n",
              "      <td>20.260200</td>\n",
              "    </tr>\n",
              "    <tr>\n",
              "      <th>24</th>\n",
              "      <td>1996</td>\n",
              "      <td>22.96</td>\n",
              "      <td>35.266700</td>\n",
              "    </tr>\n",
              "    <tr>\n",
              "      <th>25</th>\n",
              "      <td>1995</td>\n",
              "      <td>37.58</td>\n",
              "      <td>15.266900</td>\n",
              "    </tr>\n",
              "    <tr>\n",
              "      <th>26</th>\n",
              "      <td>1994</td>\n",
              "      <td>1.32</td>\n",
              "      <td>3.170700</td>\n",
              "    </tr>\n",
              "    <tr>\n",
              "      <th>27</th>\n",
              "      <td>1993</td>\n",
              "      <td>10.08</td>\n",
              "      <td>19.654500</td>\n",
              "    </tr>\n",
              "    <tr>\n",
              "      <th>28</th>\n",
              "      <td>1992</td>\n",
              "      <td>7.62</td>\n",
              "      <td>14.589600</td>\n",
              "    </tr>\n",
              "    <tr>\n",
              "      <th>29</th>\n",
              "      <td>1991</td>\n",
              "      <td>30.47</td>\n",
              "      <td>35.696200</td>\n",
              "    </tr>\n",
              "    <tr>\n",
              "      <th>30</th>\n",
              "      <td>1990</td>\n",
              "      <td>-3.10</td>\n",
              "      <td>-15.351700</td>\n",
              "    </tr>\n",
              "    <tr>\n",
              "      <th>31</th>\n",
              "      <td>1989</td>\n",
              "      <td>31.69</td>\n",
              "      <td>8.842200</td>\n",
              "    </tr>\n",
              "    <tr>\n",
              "      <th>32</th>\n",
              "      <td>1988</td>\n",
              "      <td>16.61</td>\n",
              "      <td>13.485400</td>\n",
              "    </tr>\n",
              "    <tr>\n",
              "      <th>33</th>\n",
              "      <td>1987</td>\n",
              "      <td>5.25</td>\n",
              "      <td>-3.639800</td>\n",
              "    </tr>\n",
              "    <tr>\n",
              "      <th>34</th>\n",
              "      <td>1986</td>\n",
              "      <td>18.67</td>\n",
              "      <td>19.157700</td>\n",
              "    </tr>\n",
              "    <tr>\n",
              "      <th>35</th>\n",
              "      <td>1985</td>\n",
              "      <td>31.73</td>\n",
              "      <td>19.096400</td>\n",
              "    </tr>\n",
              "    <tr>\n",
              "      <th>36</th>\n",
              "      <td>1984</td>\n",
              "      <td>6.27</td>\n",
              "      <td>20.927300</td>\n",
              "    </tr>\n",
              "    <tr>\n",
              "      <th>37</th>\n",
              "      <td>1983</td>\n",
              "      <td>22.56</td>\n",
              "      <td>30.636200</td>\n",
              "    </tr>\n",
              "    <tr>\n",
              "      <th>38</th>\n",
              "      <td>1982</td>\n",
              "      <td>21.55</td>\n",
              "      <td>21.600900</td>\n",
              "    </tr>\n",
              "    <tr>\n",
              "      <th>39</th>\n",
              "      <td>1981</td>\n",
              "      <td>-4.91</td>\n",
              "      <td>6.000800</td>\n",
              "    </tr>\n",
              "    <tr>\n",
              "      <th>40</th>\n",
              "      <td>1980</td>\n",
              "      <td>32.42</td>\n",
              "      <td>24.369100</td>\n",
              "    </tr>\n",
              "    <tr>\n",
              "      <th>41</th>\n",
              "      <td>1979</td>\n",
              "      <td>18.44</td>\n",
              "      <td>35.857600</td>\n",
              "    </tr>\n",
              "    <tr>\n",
              "      <th>42</th>\n",
              "      <td>1978</td>\n",
              "      <td>6.56</td>\n",
              "      <td>10.335500</td>\n",
              "    </tr>\n",
              "    <tr>\n",
              "      <th>43</th>\n",
              "      <td>1977</td>\n",
              "      <td>-7.18</td>\n",
              "      <td>22.424200</td>\n",
              "    </tr>\n",
              "    <tr>\n",
              "      <th>44</th>\n",
              "      <td>1976</td>\n",
              "      <td>23.84</td>\n",
              "      <td>47.588700</td>\n",
              "    </tr>\n",
              "    <tr>\n",
              "      <th>45</th>\n",
              "      <td>1975</td>\n",
              "      <td>37.20</td>\n",
              "      <td>19.299500</td>\n",
              "    </tr>\n",
              "    <tr>\n",
              "      <th>46</th>\n",
              "      <td>1974</td>\n",
              "      <td>-26.47</td>\n",
              "      <td>-21.403000</td>\n",
              "    </tr>\n",
              "    <tr>\n",
              "      <th>47</th>\n",
              "      <td>1973</td>\n",
              "      <td>-14.66</td>\n",
              "      <td>-15.519200</td>\n",
              "    </tr>\n",
              "    <tr>\n",
              "      <th>48</th>\n",
              "      <td>1972</td>\n",
              "      <td>18.98</td>\n",
              "      <td>8.010300</td>\n",
              "    </tr>\n",
              "  </tbody>\n",
              "</table>\n",
              "</div>"
            ],
            "text/plain": [
              "    Year  S&P Monthly Total Returns (Price + Dividends)  \\\n",
              "0   2020                                          18.40   \n",
              "1   2019                                          31.49   \n",
              "2   2018                                          -4.38   \n",
              "3   2017                                          21.83   \n",
              "4   2016                                          11.96   \n",
              "5   2015                                           1.38   \n",
              "6   2014                                          13.69   \n",
              "7   2013                                          32.39   \n",
              "8   2012                                          16.00   \n",
              "9   2011                                           2.11   \n",
              "10  2010                                          15.06   \n",
              "11  2009                                          26.46   \n",
              "12  2008                                         -37.00   \n",
              "13  2007                                           5.49   \n",
              "14  2006                                          15.79   \n",
              "15  2005                                           4.91   \n",
              "16  2004                                          10.88   \n",
              "17  2003                                          28.68   \n",
              "18  2002                                         -22.10   \n",
              "19  2001                                         -11.89   \n",
              "20  2000                                          -9.10   \n",
              "21  1999                                          21.04   \n",
              "22  1998                                          28.58   \n",
              "23  1997                                          33.36   \n",
              "24  1996                                          22.96   \n",
              "25  1995                                          37.58   \n",
              "26  1994                                           1.32   \n",
              "27  1993                                          10.08   \n",
              "28  1992                                           7.62   \n",
              "29  1991                                          30.47   \n",
              "30  1990                                          -3.10   \n",
              "31  1989                                          31.69   \n",
              "32  1988                                          16.61   \n",
              "33  1987                                           5.25   \n",
              "34  1986                                          18.67   \n",
              "35  1985                                          31.73   \n",
              "36  1984                                           6.27   \n",
              "37  1983                                          22.56   \n",
              "38  1982                                          21.55   \n",
              "39  1981                                          -4.91   \n",
              "40  1980                                          32.42   \n",
              "41  1979                                          18.44   \n",
              "42  1978                                           6.56   \n",
              "43  1977                                          -7.18   \n",
              "44  1976                                          23.84   \n",
              "45  1975                                          37.20   \n",
              "46  1974                                         -26.47   \n",
              "47  1973                                         -14.66   \n",
              "48  1972                                          18.98   \n",
              "\n",
              "    REITS Total Returns (Price + Dividends)  \n",
              "0                                 -5.121561  \n",
              "1                                 28.660000  \n",
              "2                                 -4.044548  \n",
              "3                                  8.673904  \n",
              "4                                  8.629229  \n",
              "5                                  2.825235  \n",
              "6                                 28.027586  \n",
              "7                                  2.855735  \n",
              "8                                 19.700810  \n",
              "9                                  8.283718  \n",
              "10                                27.946967  \n",
              "11                                27.990215  \n",
              "12                               -37.727636  \n",
              "13                               -15.691743  \n",
              "14                                35.060672  \n",
              "15                                12.162835  \n",
              "16                                31.577496  \n",
              "17                                37.133707  \n",
              "18                                 3.820789  \n",
              "19                                13.932909  \n",
              "20                                26.365400  \n",
              "21                                -4.620000  \n",
              "22                               -17.502200  \n",
              "23                                20.260200  \n",
              "24                                35.266700  \n",
              "25                                15.266900  \n",
              "26                                 3.170700  \n",
              "27                                19.654500  \n",
              "28                                14.589600  \n",
              "29                                35.696200  \n",
              "30                               -15.351700  \n",
              "31                                 8.842200  \n",
              "32                                13.485400  \n",
              "33                                -3.639800  \n",
              "34                                19.157700  \n",
              "35                                19.096400  \n",
              "36                                20.927300  \n",
              "37                                30.636200  \n",
              "38                                21.600900  \n",
              "39                                 6.000800  \n",
              "40                                24.369100  \n",
              "41                                35.857600  \n",
              "42                                10.335500  \n",
              "43                                22.424200  \n",
              "44                                47.588700  \n",
              "45                                19.299500  \n",
              "46                               -21.403000  \n",
              "47                               -15.519200  \n",
              "48                                 8.010300  "
            ]
          },
          "metadata": {
            "tags": []
          },
          "execution_count": 15
        }
      ]
    },
    {
      "cell_type": "code",
      "metadata": {
        "id": "71VxUJU55f1n",
        "outputId": "904669ed-bb1a-4d6b-89bc-58e27421102a"
      },
      "source": [
        "print(\"Yearly total Stock returns: \" + str(round(returns_data_annual[\"S&P Monthly Total Returns (Price + Dividends)\"].mean(), 2)) + \"%\")\n",
        "print(\"Yearly total REITS returns: \" + str(round(returns_data_annual[\"REITS Total Returns (Price + Dividends)\"].mean(), 2)) + \"%\")\n",
        "print(\"Yearly Stocks SD: \" + str(round(returns_data_annual[\"S&P Monthly Total Returns (Price + Dividends)\"].std(), 2)) + \"%\")\n",
        "print(\"Yearly REITs SD: \" + str(round(returns_data_annual[\"REITS Total Returns (Price + Dividends)\"].std(), 2)) + \"%\")\n",
        "print(\"Stocks/REIT Correlation :\" +str(round(returns_data_annual[\"REITS Total Returns (Price + Dividends)\"].corr(returns_data_annual[\"S&P Monthly Total Returns (Price + Dividends)\"]),2)))"
      ],
      "execution_count": null,
      "outputs": [
        {
          "output_type": "stream",
          "text": [
            "Yearly total Stock returns: 12.26%\n",
            "Yearly total REITS returns: 12.95%\n",
            "Yearly Stocks SD: 17.19%\n",
            "Yearly REITs SD: 17.71%\n",
            "Stocks/REIT Correlation :0.54\n"
          ],
          "name": "stdout"
        }
      ]
    },
    {
      "cell_type": "markdown",
      "metadata": {
        "id": "41ruzNR35f1n"
      },
      "source": [
        "**Comment**: Testing with yearly returns, I observe that I get similar results as when I did the same with monthly returns. Namely, REITs average annual total returns and standard deviation are **higher** than these of stocks. The correlation of the two asset classes is slightly positive."
      ]
    },
    {
      "cell_type": "markdown",
      "metadata": {
        "id": "jrgyzWnQ5f1o"
      },
      "source": [
        "# VIII.Conclusions\n",
        "\n",
        "Through my research in Part VI of this article I **partially** confirmed my hypothesis. <br><br>\n",
        "1.<u>Indeed</u> REITs have a higher both monthly and annual average return than Stocks. <br>\n",
        "2.REITs <u>also</u> are a good diversifier to a stock portofolio because they have a moderate correlation with stocks.<br>\n",
        "3.<u>However</u> REITs are <u>riskier</u> than stocks in terms of standard deviation. That contradicts my initial hypothesis.\n",
        "\n",
        " \n"
      ]
    },
    {
      "cell_type": "markdown",
      "metadata": {
        "id": "SudsqGUo5f1o"
      },
      "source": [
        "# IX.Further research"
      ]
    },
    {
      "cell_type": "markdown",
      "metadata": {
        "id": "8u8iSEDf5f1o"
      },
      "source": [
        "Points for **further research** on the topic might be:\n",
        "\n",
        "<ul>\n",
        "<li>My conclusion above that REITs have a higher standard deviation of returns compared to stocks contradicts some of the articles that I have read writing the current article. It is interesting to dig deeper why this discrepancy occurs.</li><br>\n",
        "<li>I have used general indexes as proxies for the REIT and Stock returns. Nevertheless both Stocks and REITs have a wide number of subindexes which vary in risk/return as defined above. E.g. REITS - industrial, commercial, storage, data centers etc. E.g. Stocks - utilities, tech, financials etc. It would be interesting to run the same research on subsector level.</li>\n",
        "\n",
        "</ul>"
      ]
    },
    {
      "cell_type": "markdown",
      "metadata": {
        "id": "8vs_rU615f1p"
      },
      "source": [
        "# X.References"
      ]
    },
    {
      "cell_type": "markdown",
      "metadata": {
        "id": "H3k4bjnt5f1p"
      },
      "source": [
        "<a>https://www.reit.com/data-research/reit-indexes/ftse-nareit-us-real-estate-index-historical-values-returns </a><br>\n",
        "<a>https://finance.yahoo.com/quote/%5EGSPC/history?p=%5EGSPC </a><br>\n",
        "<a>https://www.reit.com/news/blog/market-commentary/reit-average--historical-returns-vs-us-stocks-sp-500 </a><br>\n",
        "<a>https://www.millionacres.com/research/reits-vs-stocks/ </a><br>\n",
        "<a>https://seekingalpha.com/article/4061110-reits-vs-stocks-risk-comparison</a><br>\n",
        "<a>https://fourpillarfreedom.com/are-reits-and-stocks-correlated/</a>"
      ]
    }
  ]
}